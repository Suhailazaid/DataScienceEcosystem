{
 "cells": [
  {
   "cell_type": "markdown",
   "id": "0967bdfc",
   "metadata": {},
   "source": [
    "<h3>Exercise 1: Create a Jupyter Notebook<h3>"
   ]
  },
  {
   "cell_type": "markdown",
   "id": "ea9abf3c",
   "metadata": {},
   "source": [
    "<p>I created a new Jupyter notebook called DataScienceEcosystem.ipynb<p>"
   ]
  },
  {
   "cell_type": "markdown",
   "id": "fd0d7559",
   "metadata": {},
   "source": [
    "<h3>Exercise 2: Create markdown cell with title of the notebook<h3>"
   ]
  },
  {
   "cell_type": "markdown",
   "id": "11d48730",
   "metadata": {},
   "source": [
    "<h1>Data Science Tools and Ecosystem<h1>"
   ]
  },
  {
   "cell_type": "markdown",
   "id": "737bcd08",
   "metadata": {},
   "source": [
    "<h3>Exercise 3 - Create a markdown cell for an introduction<h3>"
   ]
  },
  {
   "cell_type": "markdown",
   "id": "33aa9686",
   "metadata": {},
   "source": [
    "<p>In this notebook, Data Science Tools and Ecosystem are summarized.<p>\n",
    "   <strong>Objectives:</strong>\n",
    "    <ul>\n",
    "        <li>List popular languages that Data Scientists use.</li>\n",
    "        <li>List commonly used libraries used by Data Scientists.</li>\n",
    "        <li>Comment on Data Science tools.</li>\n",
    "   </ul>"
   ]
  },
  {
   "cell_type": "markdown",
   "id": "f795b39a",
   "metadata": {},
   "source": [
    "<h3>Exercise 4 - Create a markdown cell to list data science languages<h3>"
   ]
  },
  {
   "cell_type": "markdown",
   "id": "ebd46e92",
   "metadata": {},
   "source": [
    "<p>Some of the popular languages that Data Scientists use are:<p>\n",
    "    <ol>\n",
    "        <li>R</li>\n",
    "        <li>python</li>\n",
    "        <li>SQL</li>\n",
    "        <li>Java</li>\n",
    "        <li>Julia</li>\n",
    "        <li>Javascript</li>\n",
    "        <li>c</li>\n",
    "        <li>c++</li>\n",
    "        <li>scala</li>\n",
    "      </ol>"
   ]
  },
  {
   "cell_type": "markdown",
   "id": "5bd205da",
   "metadata": {},
   "source": [
    "<h3>Exercise 5 - Create a markdown cell to list data science libraries<h3>"
   ]
  },
  {
   "cell_type": "markdown",
   "id": "dd230f2c",
   "metadata": {},
   "source": [
    "<p>Some of the commonly used libraries used by Data Scientists include:<p>\n",
    "    <ol>\n",
    "        <li>Pandas</li>\n",
    "        <li>Keras</li>\n",
    "        <li>TensorFlow</li>\n",
    "        <li>Matplotlib</li>\n",
    "        <li>NumPy</li>\n",
    "        <li>Scrapy</li>\n",
    "        <li>PyTorch</li>\n",
    "        <li>ScaPy</li>\n",
    "        <li>Ramp</li>\n",
    "        <li>Pipenv</li>\n",
    "        <li>Caffe2</li>\n",
    "        <li>NuPic</li>\n",
    "        <li>Scikit-Learn</li>\n",
    "        <li>Eli5</li>\n",
    "        <li>Chainer</li>\n",
    "        <li>Theano</li>\n",
    "        <li>BeautifulSoup</li>\n",
    "        <li>PyBrain</li>\n",
    "        <li>Bob</li>\n",
    "        <li>LightGBM</li>\n",
    "        </ol>"
   ]
  },
  {
   "cell_type": "markdown",
   "id": "df94d6f4",
   "metadata": {},
   "source": [
    "<h3>Exercise 6 - Create a markdown cell with a table of Data Science tools<h3>"
   ]
  },
  {
   "cell_type": "markdown",
   "id": "c2178ef9",
   "metadata": {},
   "source": [
    "<p>Data Science Tools:<p>\n",
    "    <table  style=\\width:50%\\>\n",
    "     <tr>\n",
    "        <th>Data Science Tools</th>\n",
    "      </tr>\n",
    "      <tr>\n",
    "        <td>SAS. It is one of those data science tools which are specifically designed for statistical operation</td>\n",
    "      </tr>\n",
    "      <tr>\n",
    "        <td>Apache Spark</td>\n",
    "      </tr>\n",
    "      <tr>\n",
    "        <td>BigML</td>\n",
    "      </tr>\n",
    "    </table>"
   ]
  },
  {
   "cell_type": "markdown",
   "id": "5903be89",
   "metadata": {},
   "source": [
    "<h3>Exercise 7 - Create a markdown cell introducing arithmetic expression examples<h3>\n",
    "    <h3>Below are a few examples of evaluating arithmetic expressions in Python<h3>"
   ]
  },
  {
   "cell_type": "code",
   "execution_count": 17,
   "id": "46547450",
   "metadata": {},
   "outputs": [
    {
     "name": "stdout",
     "output_type": "stream",
     "text": [
      "52\n",
      "28\n",
      "480\n",
      "3.3333333333333335\n"
     ]
    }
   ],
   "source": [
    "# Arithmetic Expressions\n",
    "x = 40\n",
    "y = 12\n",
    "  \n",
    "add = x + y\n",
    "sub = x - y\n",
    "pro = x * y\n",
    "div = x / y\n",
    "  \n",
    "print(add)\n",
    "print(sub)\n",
    "print(pro)\n",
    "print(div)"
   ]
  },
  {
   "cell_type": "code",
   "execution_count": 18,
   "id": "df4d2a2d",
   "metadata": {},
   "outputs": [
    {
     "name": "stdout",
     "output_type": "stream",
     "text": [
      "True\n"
     ]
    }
   ],
   "source": [
    "# Relational Expressions\n",
    "a = 21\n",
    "b = 13\n",
    "c = 40\n",
    "d = 37\n",
    "  \n",
    "p = (a + b) >= (c - d)\n",
    "print(p)"
   ]
  },
  {
   "cell_type": "markdown",
   "id": "88f883ef",
   "metadata": {},
   "source": [
    "<h3>Exercise 8 - Create a code cell to multiply and add numbers<h3>"
   ]
  },
  {
   "cell_type": "code",
   "execution_count": 19,
   "id": "ee972d61",
   "metadata": {},
   "outputs": [
    {
     "name": "stdout",
     "output_type": "stream",
     "text": [
      "17\n"
     ]
    }
   ],
   "source": [
    "#This a simple arithmetic expression to mutiply then add integers\n",
    "x=3\n",
    "y=4\n",
    "z=5\n",
    "m=(x*y)+z\n",
    "print(m)"
   ]
  },
  {
   "cell_type": "markdown",
   "id": "3f8ea2c2",
   "metadata": {},
   "source": [
    "<h3>Exercise 9 - Create a code cell to convert minutes to hours<h3>"
   ]
  },
  {
   "cell_type": "code",
   "execution_count": 20,
   "id": "76fe4062",
   "metadata": {},
   "outputs": [
    {
     "name": "stdout",
     "output_type": "stream",
     "text": [
      "3.3333333333333335 hours\n"
     ]
    }
   ],
   "source": [
    "#This will convert 200 minutes to hours by diving by 60.\n",
    "#1hour=60 mint\n",
    "mint=200\n",
    "all_hour=200/60\n",
    "print( str(all_hour) + \" hours\")"
   ]
  },
  {
   "cell_type": "markdown",
   "id": "14a53f16",
   "metadata": {},
   "source": [
    "<h3>Exercise 10 - Insert a markdown cell to list Objectives<h3>"
   ]
  },
  {
   "cell_type": "markdown",
   "id": "dd5402c8",
   "metadata": {},
   "source": [
    "<p>In this notebook, Data Science Tools and Ecosystem are summarized.<p>\n",
    "   <strong>Objectives:</strong>\n",
    "    <ul>\n",
    "        <li>List popular languages that Data Scientists use.</li>\n",
    "        <li>List commonly used libraries used by Data Scientists.</li>\n",
    "        <li>Comment on Data Science tools.</li>\n",
    "   </ul>"
   ]
  },
  {
   "cell_type": "markdown",
   "id": "149395bf",
   "metadata": {},
   "source": [
    "<h3>Exercise 11 - Create a markdown cell to indicate the Author’s name.<h3>"
   ]
  },
  {
   "cell_type": "markdown",
   "id": "4ff3583a",
   "metadata": {},
   "source": [
    "<h2>Author:</h2> Suhaila Abdulah"
   ]
  }
 ],
 "metadata": {
  "kernelspec": {
   "display_name": "Python 3 (ipykernel)",
   "language": "python",
   "name": "python3"
  },
  "language_info": {
   "codemirror_mode": {
    "name": "ipython",
    "version": 3
   },
   "file_extension": ".py",
   "mimetype": "text/x-python",
   "name": "python",
   "nbconvert_exporter": "python",
   "pygments_lexer": "ipython3",
   "version": "3.11.4"
  }
 },
 "nbformat": 4,
 "nbformat_minor": 5
}
